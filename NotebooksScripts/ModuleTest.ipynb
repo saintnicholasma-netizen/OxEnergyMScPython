{
 "cells": [
  {
   "cell_type": "markdown",
   "id": "aac0b439-05ce-4ca8-8fb2-8654fc2eb953",
   "metadata": {},
   "source": [
    "# Energy Systems Python Skills Activity Notebook\n",
    "Use this notebook to test the output of your code written as part of the classes and modules activity.\n",
    "\n",
    "**If you haven't already done so, complete the exercises Battery, PV, Classes and Modules activities**"
   ]
  },
  {
   "cell_type": "markdown",
   "id": "b8899a1f-5224-4ef2-9f35-6a1cd8afc759",
   "metadata": {},
   "source": [
    "## Import your module\n",
    "Import your module script. Edit as appropriate with the name of your script.\n",
    "\n",
    "Your own modules (and packages) are imported in the same way you import an external library. However, you need to make sure the script knows where to look for you module. The easiest way to achieve this is to have your module in the current working directory (usually the same folder as the file you are trying to import into i.e. this file). Otherwise, you have to direct python to look in the correct place (using something like: `sys.path.append(os.path.abspath(\"modulepath\"))`)."
   ]
  },
  {
   "cell_type": "code",
   "execution_count": 1,
   "id": "fed6a346-6081-4b6b-a16b-9e506dcf171f",
   "metadata": {},
   "outputs": [],
   "source": [
    "import ModuleStarter as es"
   ]
  },
  {
   "cell_type": "markdown",
   "id": "ba31926b-c62b-4ab9-a5ae-348e0405b209",
   "metadata": {},
   "source": [
    "## Test your PV array size calculation function"
   ]
  },
  {
   "cell_type": "code",
   "execution_count": 2,
   "id": "06a92261-f6de-45bf-be28-fbee0bf915a9",
   "metadata": {},
   "outputs": [
    {
     "ename": "SyntaxError",
     "evalue": "incomplete input (3992176920.py, line 14)",
     "output_type": "error",
     "traceback": [
      "  \u001b[36mCell\u001b[39m\u001b[36m \u001b[39m\u001b[32mIn[2]\u001b[39m\u001b[32m, line 14\u001b[39m\n\u001b[31m    \u001b[39m\u001b[31mprint(\"PV array consists of {} with total capacity {} kW\".format(total_panels, capacity)\u001b[39m\n                                                                                             ^\n\u001b[31mSyntaxError\u001b[39m\u001b[31m:\u001b[39m incomplete input\n"
     ]
    }
   ],
   "source": [
    "# input parameters\n",
    "building_width = 15.0  # building width (m)\n",
    "building_length = 28.0  # building length (m)\n",
    "roof_angle = 22.0  # angle of roof incline deg\n",
    "pv_width = 1690  # width of PV panel in mm\n",
    "pv_height = 1046  # height of PV panel in mm\n",
    "pv_power = 400.0  # power of PV panel in Wp\n",
    "\n",
    "# call your PV array calculation function using dot notation to \n",
    "# access the function contained within your module.\n",
    "power_capacity, total_panels = es.calc_pv_array_size()\n",
    "\n",
    "# print output\n",
    "print(\"PV array consists of {} with total capacity {} kW\".format(total_panels, capacity) "
   ]
  },
  {
   "cell_type": "markdown",
   "id": "f925ee80-ccb6-43f7-9ddb-bc0780912e62",
   "metadata": {},
   "source": [
    "## Test your battery object"
   ]
  },
  {
   "cell_type": "code",
   "execution_count": 3,
   "id": "84955189-8205-48b1-a46e-642adc2bc7b4",
   "metadata": {},
   "outputs": [
    {
     "ename": "NameError",
     "evalue": "name 'es' is not defined",
     "output_type": "error",
     "traceback": [
      "\u001b[31m---------------------------------------------------------------------------\u001b[39m",
      "\u001b[31mNameError\u001b[39m                                 Traceback (most recent call last)",
      "\u001b[36mCell\u001b[39m\u001b[36m \u001b[39m\u001b[32mIn[3]\u001b[39m\u001b[32m, line 3\u001b[39m\n\u001b[32m      1\u001b[39m demand = [\u001b[32m3\u001b[39m, \u001b[32m5\u001b[39m, -\u001b[32m1\u001b[39m, -\u001b[32m4\u001b[39m, -\u001b[32m3\u001b[39m, \u001b[32m0\u001b[39m, \u001b[32m5\u001b[39m, \u001b[32m8\u001b[39m, -\u001b[32m3\u001b[39m, \u001b[32m8\u001b[39m, -\u001b[32m5\u001b[39m, \u001b[32m1\u001b[39m, \u001b[32m4\u001b[39m, \u001b[32m7\u001b[39m, \u001b[32m5\u001b[39m, \u001b[32m2\u001b[39m, \u001b[32m2\u001b[39m, -\u001b[32m5\u001b[39m, -\u001b[32m2\u001b[39m, -\u001b[32m5\u001b[39m, -\u001b[32m0\u001b[39m, \u001b[32m7\u001b[39m, \u001b[32m3\u001b[39m, -\u001b[32m5\u001b[39m]\n\u001b[32m      2\u001b[39m net_demand = [\u001b[32m0\u001b[39m] * \u001b[38;5;28mlen\u001b[39m(demand)\n\u001b[32m----> \u001b[39m\u001b[32m3\u001b[39m b1 = \u001b[43mes\u001b[49m.Battery()\n\u001b[32m      4\u001b[39m \u001b[38;5;28;01mfor\u001b[39;00m t, d \u001b[38;5;129;01min\u001b[39;00m \u001b[38;5;28menumerate\u001b[39m(demand):  \u001b[38;5;66;03m# t is the index, d is the corresponding demand index\u001b[39;00m\n\u001b[32m      5\u001b[39m     net_demand[t] = b1.battery_charge_action(d, \u001b[32m1\u001b[39m)\n",
      "\u001b[31mNameError\u001b[39m: name 'es' is not defined"
     ]
    }
   ],
   "source": [
    "demand = [3, 5, -1, -4, -3, 0, 5, 8, -3, 8, -5, 1, 4, 7, 5, 2, 2, -5, -2, -5, -0, 7, 3, -5]\n",
    "net_demand = [0] * len(demand)\n",
    "b1 = es.Battery()\n",
    "for t, d in enumerate(demand):  # t is the index, d is the corresponding demand index\n",
    "    net_demand[t] = b1.battery_charge_action(d, 1)\n",
    "\n",
    "print(\"Final battery state of charge {:.1f} %\".format((b1.soc/b1.E_tot)*100))"
   ]
  },
  {
   "cell_type": "code",
   "execution_count": null,
   "id": "4e4c7f67",
   "metadata": {},
   "outputs": [],
   "source": [
    "demand = [3, 5, -1, -4, -3, 0, 5, 8, -3, 8, -5, 1, 4, 7, 5, 2, 2, -5, -2, -5, -0, 7, 3, -5]\n",
    "net_demand = [0] * len(demand)\n",
    "b1 = es.Battery()\n",
    "b2 = es.Battery()\n"
   ]
  },
  {
   "cell_type": "markdown",
   "id": "bd0296ec-f09f-49d4-9536-bab0faf52819",
   "metadata": {},
   "source": [
    "## Advanced\n",
    "Have a go at the following activity if you finish the Numpy, Pandas and Plotting activities early on Day 2.\n",
    "\n",
    "Some starting code has been included."
   ]
  },
  {
   "cell_type": "markdown",
   "id": "06315ba5-e166-480b-8aec-877ee3f48e18",
   "metadata": {},
   "source": [
    "Model a PV + battery system for Holywell House.\n",
    "\n",
    "Hourly solar generation data (kW/kWp) for Oxford has been downloaded from renewables.ninja to the data folder (oxford_pv_2024.csv). Hourly demand data for Holywell House is saved as holywell_elec_2024.csv.\n",
    "\n",
    "1. Import the data using pandas.\n",
    "2. size a PV array for Holywell House and calculate the hourly output of the PV array\n",
    "3. Calculate the net demand for Holywell House only considering demand and PV generation\n",
    "4. model the operation of a battery for Holywell House\n",
    "5. calculate the cost energy cost for the 3 scenarios: no PV or battery, PV no battery, PV and battery.\n",
    "6. iterate through a range of PV and battery sizes. Include the capital cost of PV and Battery. Plot the total system costs as a function of PV and Battery size. Comment on your results."
   ]
  },
  {
   "cell_type": "code",
   "execution_count": null,
   "id": "e5ed6d6b-e527-4f58-81b6-ab7e6510afa2",
   "metadata": {},
   "outputs": [],
   "source": [
    "# 1 import the data\n",
    "pv_cf_data = pd.read_csv()\n",
    "demand_data = pd.read_csv()\n"
   ]
  },
  {
   "cell_type": "code",
   "execution_count": null,
   "id": "83cd6756-4682-4137-bf07-d78d71821b29",
   "metadata": {},
   "outputs": [],
   "source": [
    "# check the frequency of your timeseries data and resample to hourly if necessary"
   ]
  },
  {
   "cell_type": "code",
   "execution_count": null,
   "id": "af8c4509-6e33-4d61-887a-2c5d9e37a12c",
   "metadata": {},
   "outputs": [],
   "source": [
    "# 2) holywell house PV array capacity"
   ]
  },
  {
   "cell_type": "code",
   "execution_count": null,
   "id": "5a21a963",
   "metadata": {},
   "outputs": [],
   "source": [
    "# 2b) calculate the hourly output of the PV array"
   ]
  },
  {
   "cell_type": "code",
   "execution_count": null,
   "id": "eb6c2efe",
   "metadata": {},
   "outputs": [],
   "source": [
    "# 3) calculate the net demand for holywell house considering demand and PV generation"
   ]
  },
  {
   "cell_type": "code",
   "execution_count": null,
   "id": "d12040dc",
   "metadata": {},
   "outputs": [],
   "source": [
    "# 4) setup your storage asset and model the operation of the battery"
   ]
  },
  {
   "cell_type": "code",
   "execution_count": null,
   "id": "5616551f",
   "metadata": {},
   "outputs": [],
   "source": [
    "# 5) calculate the cost of energy for the 3 scenarios: no PV or battery, PV no battery, PV and battery."
   ]
  },
  {
   "cell_type": "code",
   "execution_count": null,
   "id": "98c7c10f",
   "metadata": {},
   "outputs": [],
   "source": [
    "# 6) perform a grid search over a range of PV and battery sizes, calculating the total system cost for each combination"
   ]
  },
  {
   "cell_type": "code",
   "execution_count": null,
   "id": "45db9c6c",
   "metadata": {},
   "outputs": [],
   "source": [
    "# plot your results and discuss"
   ]
  }
 ],
 "metadata": {
  "kernelspec": {
   "display_name": "my_first_env",
   "language": "python",
   "name": "python3"
  },
  "language_info": {
   "codemirror_mode": {
    "name": "ipython",
    "version": 3
   },
   "file_extension": ".py",
   "mimetype": "text/x-python",
   "name": "python",
   "nbconvert_exporter": "python",
   "pygments_lexer": "ipython3",
   "version": "3.12.12"
  }
 },
 "nbformat": 4,
 "nbformat_minor": 5
}
