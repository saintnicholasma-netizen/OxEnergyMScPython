{
 "cells": [
  {
   "cell_type": "markdown",
   "metadata": {},
   "source": [
    "<img src=\"https://media.licdn.com/dms/image/C561BAQEVCDe44Tt-kQ/company-background_10000/0?e=2159024400&v=beta&t=BglJGcQeWT2zCaG1sbW30jo9YOGOUCqQ6TOPnWPlra4\"/>"
   ]
  },
  {
   "cell_type": "markdown",
   "metadata": {},
   "source": [
    "# Welcome to a Python Notebook! \n",
    "\n",
    "This is an interactive way of programming where you can easily modify, run, and visualize the result of your code! \n",
    "\n",
    "That's just a few of the modern features involved. Notebooks such as Jupyter allow you to make complex documents with normal (Markdown) text, coding cells, and graphics, all integrated into one document. \n",
    "\n",
    "**For instance, double-click this cell and it becomes editable. Try it!**\n",
    "\n",
    "**Once you are done, Press SHIFT together with ENTER to run the text cell**\n",
    "\n",
    "Let's try getting started with some typical Notebook features and code.\n"
   ]
  },
  {
   "cell_type": "markdown",
   "metadata": {},
   "source": [
    "## Importing\n",
    "\n",
    "<img src=\"https://cdn.dribbble.com/users/737433/screenshots/5375931/untitled_00.gif\" width=\"400\" height=\"400\" align=\"left\"/>\n",
    "\n",
    "&nbsp;\n",
    "\n",
    "<div style=\"background-color:rgba(0, 0, 0, 0); text-align:left; vertical-align: middle; padding:100px 100px 100px 500px;\">\n",
    "Below, you are going to explore an important aspect of Python coding:  \n",
    "<b> Importing Libraries</b>.\n",
    "  \n",
    "   \n",
    "Have a look at the sample code below (*ones you may use often*) and try to figure out what is being done and its added benefit to coding. **Add comments on each line to give your explanation**\n",
    "</div>\n"
   ]
  },
  {
   "cell_type": "code",
   "execution_count": 23,
   "metadata": {},
   "outputs": [],
   "source": [
    "\n",
    "import datetime\n",
    "from math import *\n",
    "import numpy as np, pandas as pd\n",
    "import matplotlib.pyplot as plt\n"
   ]
  },
  {
   "cell_type": "markdown",
   "metadata": {},
   "source": [
    "&nbsp;\n",
    "\n",
    "## Basic Python syntax\n",
    "\n",
    "&nbsp;\n",
    "\n",
    "<img src=\"https://cdn.dribbble.com/users/50886/screenshots/2710024/coding.gif\" width=\"1000\" height=\"400\" align=\"left\"/>\n",
    "\n",
    "&nbsp;\n",
    "\n",
    "<div style=\"background-color:rgba(0, 0, 0, 0); text-align:left; vertical-align: middle; padding:100px 100px 100px 500px;\">\n",
    "Let's go ahead and start creating some variables and lists, performing some simple computation on them.\n",
    "</div>\n"
   ]
  },
  {
   "cell_type": "code",
   "execution_count": 24,
   "metadata": {},
   "outputs": [],
   "source": [
    "# This is where we create a list of numbers and assign it to the variable 'x'\n",
    "\n",
    "x = range(1,11)\n"
   ]
  },
  {
   "cell_type": "code",
   "execution_count": 25,
   "metadata": {},
   "outputs": [
    {
     "name": "stdout",
     "output_type": "stream",
     "text": [
      "range(1, 11)\n",
      "10\n"
     ]
    }
   ],
   "source": [
    "# Let's try printing the results\n",
    "# Why do you think we used '0'?\n",
    "\n",
    "print(x)\n",
    "print(x[-1])\n"
   ]
  },
  {
   "cell_type": "code",
   "execution_count": 26,
   "metadata": {},
   "outputs": [
    {
     "name": "stdout",
     "output_type": "stream",
     "text": [
      "13\n"
     ]
    }
   ],
   "source": [
    "# Can we square the 5th, multiply it by the exponent of the 4th, \n",
    "# divide the result by 7th value of 'x', and then square root the final number?\n",
    "\n",
    "# Yup! And let's assign the integer value of that to the variable 'y'.\n",
    "\n",
    "y = int(sqrt((x[4]**2 * exp(x[3])) / x[6]))\n",
    "print(y)\n"
   ]
  },
  {
   "cell_type": "markdown",
   "metadata": {},
   "source": [
    "&nbsp;\n",
    "\n",
    "## Understanding Python Errors\n",
    "\n",
    "&nbsp;\n",
    "\n",
    "<img src=\"https://cdn.dribbble.com/users/45534/screenshots/2323892/lllll.gif\" width=\"1000\" height=\"400\" align=\"left\"/>\n",
    "\n",
    "&nbsp;\n",
    "\n",
    "<div style=\"background-color:rgba(0, 0, 0, 0); text-align:left; vertical-align: middle; padding:80px 100px 100px 500px;\">\n",
    "Much of your time (<font color=\"red\">unfortunately!</font>) will be spent on determining where you have gone wrong with your code. \n",
    "Using this sample code, try to figure out what has gone wrong and why based on the error message(s) produced. Some errors may simply be ones of redundancy that go unnoticed.\n",
    "</div>\n"
   ]
  },
  {
   "cell_type": "code",
   "execution_count": 28,
   "metadata": {},
   "outputs": [
    {
     "name": "stdout",
     "output_type": "stream",
     "text": [
      "50\n",
      "0.9780057513570365\n"
     ]
    }
   ],
   "source": [
    "# This is a fairly simple code but can you crack the errors?\n",
    "\n",
    "z = x[9]*5\n",
    "w = log(z)/4\n",
    "print (z)\n",
    "print (w)\n"
   ]
  },
  {
   "cell_type": "markdown",
   "metadata": {},
   "source": [
    "&nbsp;\n",
    "\n",
    "## Challenge #1\n",
    "\n",
    "&nbsp;\n",
    "\n",
    "<img src=\"https://cdn.dribbble.com/users/2514124/screenshots/5439070/girl_3.gif\" width=\"400\" height=\"400\" align=\"left\"/>\n",
    "\n",
    "&nbsp;\n",
    "\n",
    "<div style=\"background-color:rgba(0, 0, 0, 0); text-align:left; vertical-align: middle; padding:100px 100px 100px 500px;\">\n",
    "Work individually to comment on the following code below. Be as specific as possible, trying to explain what is being done and the syntax being used. \n",
    "</div>\n"
   ]
  },
  {
   "cell_type": "code",
   "execution_count": 31,
   "metadata": {},
   "outputs": [
    {
     "name": "stdout",
     "output_type": "stream",
     "text": [
      "\n",
      "The average installed capacity for all plants is: 8598.0\n"
     ]
    }
   ],
   "source": [
    "\n",
    "plant1 = int(input(\"Enter plant 1's installed capacity in MW: \"))\n",
    "plant2 = int(input(\"Enter plant 2's installed capacity in MW: \"))\n",
    "plant3 = int(input(\"Enter plant 3's installed capacity in MW: \"))\n",
    "average = (plant1 + plant2 + plant3) / 3\n",
    "print(\"\\n\" + \"The average installed capacity for all plants is: {}\".format(average))\n"
   ]
  },
  {
   "cell_type": "code",
   "execution_count": 32,
   "metadata": {},
   "outputs": [
    {
     "name": "stdout",
     "output_type": "stream",
     "text": [
      "[1.0, 2.5, 18.0]\n"
     ]
    }
   ],
   "source": [
    "power = [2,5,36]\n",
    "energy = [kw/2 for kw in power]\n",
    "print(energy)"
   ]
  },
  {
   "cell_type": "code",
   "execution_count": null,
   "metadata": {},
   "outputs": [],
   "source": []
  },
  {
   "cell_type": "markdown",
   "metadata": {},
   "source": [
    "  \n",
    "#### Animation Sources  \n",
    "\n",
    "*Importing: <a href=\"https://dribbble.com/vik_lishchuk\">Vik Lishchuk</a>   \n",
    "Basic Python Syntax: <a href=\"https://dribbble.com/nerisson\">Jimmy Raheriarisoa</a>  \n",
    "Understanding Python Errors: <a href=\"https://dribbble.com/andmironov\">Andrei Mironov</a>  \n",
    "Challenges: <a href=\"https://dribbble.com/antoshenbka\">Anton</a>*"
   ]
  }
 ],
 "metadata": {
  "anaconda-cloud": {},
  "kernelspec": {
   "display_name": "my_first_env",
   "language": "python",
   "name": "python3"
  },
  "language_info": {
   "codemirror_mode": {
    "name": "ipython",
    "version": 3
   },
   "file_extension": ".py",
   "mimetype": "text/x-python",
   "name": "python",
   "nbconvert_exporter": "python",
   "pygments_lexer": "ipython3",
   "version": "3.12.12"
  }
 },
 "nbformat": 4,
 "nbformat_minor": 4
}
